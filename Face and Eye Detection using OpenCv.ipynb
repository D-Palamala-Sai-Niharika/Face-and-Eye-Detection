{
 "cells": [
  {
   "cell_type": "markdown",
   "metadata": {},
   "source": [
    "# Face and Eyes Detection from a webcam"
   ]
  },
  {
   "cell_type": "markdown",
   "metadata": {},
   "source": [
    "## 1) How to Read, Display and Save Video in OpenCV?"
   ]
  },
  {
   "cell_type": "code",
   "execution_count": 3,
   "metadata": {},
   "outputs": [],
   "source": [
    "#to read/capture and dispaly a video\n",
    "#Videos are just a sequence of Images\n",
    "#So, we will add a while loop to capture the frame continuously\n",
    "import cv2\n",
    "\n",
    "cap = cv2.VideoCapture(0)                 #to read image\n",
    "\n",
    "while True:\n",
    "    success,frame = cap.read()            #read() returns true or false to sucess variable and frame captured by webcam to frame\n",
    "    cv2.imshow('cv2 video',frame)         #2 args-frame name,frame variable\n",
    "    if cv2.waitKey(1) & 0xFF == ord('q'): #This adds a Delay and looks for the key press inorder to break the loop,OxFF=mask for 64 bit machine\n",
    "        break;\n",
    "\n",
    "cap.release()                             #imp to release cap instance-Release the resources after recording\n",
    "cv2.destroyAllWindows()                   # closes all the windows"
   ]
  },
  {
   "cell_type": "code",
   "execution_count": 2,
   "metadata": {},
   "outputs": [],
   "source": [
    "#Reading & Displaying a Video\n",
    "import cv2\n",
    "\n",
    "cap = cv2.VideoCapture(0) #If you want to display the Video File, just give the name of it inplace of 0\n",
    "\n",
    "# is a 4-byte identifier which specifies the format of a video stream\n",
    "\n",
    "fourcc = cv2.VideoWriter_fourcc('X','V','I','D') \n",
    "\n",
    "out = cv2.VideoWriter('video.avi', fourcc, 20.0, (640,480)) #(name of output file,4cc code,frames/sec,size-tuple-(h,w))\n",
    "\n",
    "\n",
    "while True:\n",
    "    success, frame = cap.read() #frame variable will capture the Video & success variable will tell us whether it was captured successfully or not\n",
    "    \n",
    "    if success == True:\n",
    "        \n",
    "        out.write(frame)\n",
    "        \n",
    "        cv2.imshow(\"Video\", frame)\n",
    "    \n",
    "        if cv2.waitKey(1) == ord('q'): #This adds a Delay and looks for the key press inorder to break the loop\n",
    "            break\n",
    "            \n",
    "    else:\n",
    "        break\n",
    "        \n",
    "        \n",
    "cap.release() #Release the resources after recording\n",
    "out.release()\n",
    "cv2.destroyAllWindows()"
   ]
  },
  {
   "cell_type": "markdown",
   "metadata": {},
   "source": [
    "## 2)Add Rectangle to highlight detected parts"
   ]
  },
  {
   "cell_type": "code",
   "execution_count": 4,
   "metadata": {},
   "outputs": [],
   "source": [
    "import cv2\n",
    "import numpy as np\n",
    "\n",
    "img = np.zeros((512,512,3),np.uint8)\n",
    "rectangle_shape = cv2.rectangle(img,(50,100),(300,200),(0,255,255))\n",
    "\n",
    "cv2.imshow('shapes',img)\n",
    "\n",
    "cv2.waitKey(0) #specifies that it has to wait for an indefinite amount of time until we press any key from keyboard\n",
    "cv2.destroyAllWindows()"
   ]
  },
  {
   "cell_type": "markdown",
   "metadata": {},
   "source": [
    "## 3)XML Haarcascade classifier"
   ]
  },
  {
   "cell_type": "markdown",
   "metadata": {},
   "source": [
    "pre trained model available for detection of humans,eyes,face, and so on.."
   ]
  },
  {
   "cell_type": "markdown",
   "metadata": {},
   "source": [
    "# **OpenCV Github Link** https://github.com/opencv"
   ]
  },
  {
   "cell_type": "markdown",
   "metadata": {},
   "source": [
    "# Face Detection"
   ]
  },
  {
   "cell_type": "code",
   "execution_count": 5,
   "metadata": {},
   "outputs": [],
   "source": [
    "import cv2\n",
    "import numpy as np\n",
    "\n",
    "facecascade = cv2.CascadeClassifier('haarcascade_frontalface_default.xml')\n",
    "\n",
    "cap = cv2.VideoCapture(0)\n",
    "\n",
    "while True:\n",
    "    success , frame = cap.read()\n",
    "    if success == True:\n",
    "        faces = facecascade.detectMultiScale(frame,1.1,4)\n",
    "        for (x,y,w,h) in faces:\n",
    "            cv2.rectangle(frame,(x,y),(x+w,y+h),(0,0,255),3)\n",
    "        cv2.imshow('video',frame)\n",
    "        if cv2.waitKey(1) & 0xFF == ord('q'):\n",
    "            break\n",
    "    else:\n",
    "        break\n",
    "\n",
    "cap.release()\n",
    "cv2.destroyAllWindows()"
   ]
  },
  {
   "cell_type": "markdown",
   "metadata": {},
   "source": [
    "# Face and Eye Detection"
   ]
  },
  {
   "cell_type": "code",
   "execution_count": 1,
   "metadata": {},
   "outputs": [],
   "source": [
    "#Face and Eyes Detection in Real-Time\n",
    "import cv2\n",
    "import numpy as np\n",
    "\n",
    "facecascade = cv2.CascadeClassifier('haarcascade_frontalface_default.xml')\n",
    "eyecascade = cv2.CascadeClassifier('haarcascade_eye.xml')\n",
    "\n",
    "cap = cv2.VideoCapture(0)\n",
    "\n",
    "while True:\n",
    "    success , frame = cap.read()\n",
    "    if success == True:\n",
    "        \n",
    "        faces = facecascade.detectMultiScale(frame,1.1,4)\n",
    "        eyes = eyecascade.detectMultiScale(frame,1.1,4)\n",
    "        \n",
    "        for (x,y,w,h) in faces:\n",
    "            cv2.rectangle(frame,(x,y),(x+w,y+h),(0,255,0),2)\n",
    "        for (x,y,w,h) in eyes:\n",
    "            cv2.rectangle(frame,(x,y),(x+w,y+h),(0,255,0),2)\n",
    "            \n",
    "        cv2.imshow('video',frame)\n",
    "            \n",
    "        if cv2.waitKey(1) & 0xFF == ord('q'):\n",
    "            break\n",
    "    else:\n",
    "        break\n",
    "        \n",
    "cap.release()\n",
    "cv2.destroyAllWindows()"
   ]
  },
  {
   "cell_type": "code",
   "execution_count": null,
   "metadata": {},
   "outputs": [],
   "source": []
  }
 ],
 "metadata": {
  "kernelspec": {
   "display_name": "Python 3",
   "language": "python",
   "name": "python3"
  },
  "language_info": {
   "codemirror_mode": {
    "name": "ipython",
    "version": 3
   },
   "file_extension": ".py",
   "mimetype": "text/x-python",
   "name": "python",
   "nbconvert_exporter": "python",
   "pygments_lexer": "ipython3",
   "version": "3.7.6"
  }
 },
 "nbformat": 4,
 "nbformat_minor": 4
}
